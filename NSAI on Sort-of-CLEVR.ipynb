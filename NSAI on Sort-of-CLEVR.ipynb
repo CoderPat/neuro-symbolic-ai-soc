{
 "cells": [
  {
   "cell_type": "markdown",
   "metadata": {},
   "source": [
    "# Neuro-Symbolic AI\n",
    "## Sort-of-CLEVR Dataset\n",
    "### Contents\n",
    "- Generate Dataset\n",
    "- Perception Module\n",
    "    - Train\n",
    "    - Inference\n",
    "- Semantic Parser\n",
    "    - Preprocess Data\n",
    "    - Train Seq2Seq Model\n",
    "    - Inference\n",
    "- Program Executor\n",
    "- Plugging Everything Together"
   ]
  },
  {
   "cell_type": "code",
   "execution_count": null,
   "metadata": {},
   "outputs": [],
   "source": [
    "# !pip install torchtext --upgrade"
   ]
  },
  {
   "cell_type": "code",
   "execution_count": null,
   "metadata": {},
   "outputs": [],
   "source": [
    "# !git clone https://github.com/nerdimite/neuro-symbolic-ai-soc"
   ]
  },
  {
   "cell_type": "code",
   "execution_count": null,
   "metadata": {},
   "outputs": [],
   "source": [
    "# cd neuro-symbolic-ai-soc"
   ]
  },
  {
   "cell_type": "code",
   "execution_count": 1,
   "metadata": {},
   "outputs": [
    {
     "name": "stderr",
     "output_type": "stream",
     "text": [
      "/projects/tir4/users/pfernand/miniconda3/envs/neuro-symbolic/lib/python3.7/site-packages/skimage/io/manage_plugins.py:23: UserWarning: Your installed pillow version is < 7.1.0. Several security issues (CVE-2020-11538, CVE-2020-10379, CVE-2020-10994, CVE-2020-10177) have been fixed in pillow 7.1.0 or higher. We recommend to upgrade this library.\n",
      "  from .collection import imread_collection_wrapper\n"
     ]
    }
   ],
   "source": [
    "from data_generator import *\n",
    "import numpy as np\n",
    "import pandas as pd\n",
    "import os\n",
    "import dlib\n",
    "import cv2\n",
    "from skimage.io import imshow\n",
    "from sklearn.metrics.pairwise import cosine_similarity\n",
    "import torch\n",
    "from torch import nn\n",
    "from torchvision.datasets import ImageFolder\n",
    "from torch.utils.data import DataLoader\n",
    "from torchvision import transforms as tfms\n",
    "from PIL import Image\n",
    "\n",
    "import matplotlib.pyplot as plt\n",
    "%matplotlib inline"
   ]
  },
  {
   "cell_type": "markdown",
   "metadata": {},
   "source": [
    "## Dataset Generation"
   ]
  },
  {
   "cell_type": "markdown",
   "metadata": {},
   "source": [
    "### Breakdown"
   ]
  },
  {
   "cell_type": "code",
   "execution_count": 114,
   "metadata": {},
   "outputs": [],
   "source": [
    "# Generate a sample i.e.\n",
    "# a tuple of 1 image, 6 objects' properties, 20 QA vectors (10 relational and 10 non-relational)\n",
    "sample = build_sample()"
   ]
  },
  {
   "cell_type": "code",
   "execution_count": 115,
   "metadata": {},
   "outputs": [],
   "source": [
    "# Break down the sample\n",
    "img, objects, queries, programs, answers = convert_sample(sample)"
   ]
  },
  {
   "cell_type": "code",
   "execution_count": 116,
   "metadata": {},
   "outputs": [],
   "source": [
    "img = (img * 255).astype('uint8')"
   ]
  },
  {
   "cell_type": "code",
   "execution_count": 117,
   "metadata": {},
   "outputs": [
    {
     "data": {
      "text/plain": [
       "<matplotlib.image.AxesImage at 0x7fb8bc2b37d0>"
      ]
     },
     "execution_count": 117,
     "metadata": {},
     "output_type": "execute_result"
    },
    {
     "data": {
      "image/png": "[encoded data removed]",
      "text/plain": [
       "<Figure size 432x288 with 1 Axes>"
      ]
     },
     "metadata": {
      "needs_background": "light"
     },
     "output_type": "display_data"
    }
   ],
   "source": [
    "imshow(cv2.cvtColor(img, cv2.COLOR_BGR2RGB))"
   ]
  },
  {
   "cell_type": "code",
   "execution_count": 118,
   "metadata": {},
   "outputs": [
    {
     "data": {
      "text/plain": [
       "[(0, array([85, 43]), 'r', (70, 28, 100, 58)),\n",
       " (1, array([ 21, 173]), 'c', (6, 158, 36, 188)),\n",
       " (2, array([22, 68]), 'r', (7, 53, 37, 83)),\n",
       " (3, array([154,  28]), 'c', (139, 13, 169, 43)),\n",
       " (4, array([142, 173]), 'r', (127, 158, 157, 188)),\n",
       " (5, array([190, 120]), 'r', (175, 105, 205, 135))]"
      ]
     },
     "execution_count": 118,
     "metadata": {},
     "output_type": "execute_result"
    }
   ],
   "source": [
    "objects"
   ]
  },
  {
   "cell_type": "code",
   "execution_count": 119,
   "metadata": {
    "scrolled": true
   },
   "outputs": [
    {
     "data": {
      "text/plain": [
       "[('What is the closest shape to the gray object?',\n",
       "  'rectangle',\n",
       "  'filter gray <nxt> relate closest <nxt> query shape'),\n",
       " ('What is the closest shape to the red object?',\n",
       "  'rectangle',\n",
       "  'filter red <nxt> relate closest <nxt> query shape'),\n",
       " ('What is the closest shape to the orange object?',\n",
       "  'rectangle',\n",
       "  'filter orange <nxt> relate closest <nxt> query shape'),\n",
       " ('What is the furthest shape from the green object?',\n",
       "  'circle',\n",
       "  'filter green <nxt> relate furthest <nxt> query shape'),\n",
       " ('What is the furthest shape from the orange object?',\n",
       "  'circle',\n",
       "  'filter orange <nxt> relate furthest <nxt> query shape'),\n",
       " ('What is the closest shape to the orange object?',\n",
       "  'rectangle',\n",
       "  'filter orange <nxt> relate closest <nxt> query shape'),\n",
       " ('What is the furthest shape from the yellow object?',\n",
       "  'circle',\n",
       "  'filter yellow <nxt> relate furthest <nxt> query shape'),\n",
       " ('How many objects of the same shape as the green object are there?',\n",
       "  '2',\n",
       "  'filter green <nxt> query shape <nxt> filter <nxt> count'),\n",
       " ('What is the closest shape to the gray object?',\n",
       "  'rectangle',\n",
       "  'filter gray <nxt> relate closest <nxt> query shape'),\n",
       " ('What is the furthest shape from the red object?',\n",
       "  'circle',\n",
       "  'filter red <nxt> relate furthest <nxt> query shape'),\n",
       " ('Is there a gray object on the left?',\n",
       "  'no',\n",
       "  'filter gray <nxt> query position <nxt> isLeft'),\n",
       " ('What is the shape of the gray object?',\n",
       "  'rectangle',\n",
       "  'filter gray <nxt> query shape'),\n",
       " ('Is there a green object on the left?',\n",
       "  'yes',\n",
       "  'filter green <nxt> query position <nxt> isLeft'),\n",
       " ('What is the shape of the green object?',\n",
       "  'circle',\n",
       "  'filter green <nxt> query shape'),\n",
       " ('Is there a red object on the left?',\n",
       "  'yes',\n",
       "  'filter red <nxt> query position <nxt> isLeft'),\n",
       " ('Is there a blue object on the top?',\n",
       "  'yes',\n",
       "  'filter blue <nxt> query position <nxt> isTop'),\n",
       " ('What is the shape of the yellow object?',\n",
       "  'rectangle',\n",
       "  'filter yellow <nxt> query shape'),\n",
       " ('What is the shape of the gray object?',\n",
       "  'rectangle',\n",
       "  'filter gray <nxt> query shape'),\n",
       " ('Is there a green object on the left?',\n",
       "  'yes',\n",
       "  'filter green <nxt> query position <nxt> isLeft'),\n",
       " ('Is there a gray object on the left?',\n",
       "  'no',\n",
       "  'filter gray <nxt> query position <nxt> isLeft')]"
      ]
     },
     "execution_count": 119,
     "metadata": {},
     "output_type": "execute_result"
    }
   ],
   "source": [
    "list(zip(queries, answers, programs))"
   ]
  },
  {
   "cell_type": "markdown",
   "metadata": {},
   "source": [
    "### Generate the full dataset"
   ]
  },
  {
   "cell_type": "code",
   "execution_count": 207,
   "metadata": {},
   "outputs": [
    {
     "name": "stderr",
     "output_type": "stream",
     "text": [
      "100%|██████████| 1000/1000 [01:20<00:00, 12.43it/s]\n",
      "100%|██████████| 100/100 [00:07<00:00, 13.72it/s]\n"
     ]
    }
   ],
   "source": [
    "# Generate the dataset\n",
    "n_train_imgs = 1000\n",
    "n_test_imgs = 100\n",
    "\n",
    "build_dataset(n_train_imgs, data_dir='data/train', prefix='train')\n",
    "build_dataset(n_test_imgs, data_dir='data/test', prefix='test')"
   ]
  },
  {
   "cell_type": "markdown",
   "metadata": {},
   "source": [
    "## Perception Module"
   ]
  },
  {
   "cell_type": "markdown",
   "metadata": {},
   "source": [
    "### Train the Object Detector"
   ]
  },
  {
   "cell_type": "code",
   "execution_count": 121,
   "metadata": {},
   "outputs": [
    {
     "name": "stdout",
     "output_type": "stream",
     "text": [
      "The autoreload extension is already loaded. To reload it, use:\n",
      "  %reload_ext autoreload\n"
     ]
    }
   ],
   "source": [
    "%load_ext autoreload\n",
    "%autoreload 2\n",
    "from perception import *"
   ]
  },
  {
   "cell_type": "code",
   "execution_count": 122,
   "metadata": {},
   "outputs": [],
   "source": [
    "def load_image_data(csv_file, img_dir):\n",
    "    '''Load the image detection data for training the object detector'''\n",
    "    # Annotations\n",
    "    annot = pd.read_csv(csv_file)\n",
    "    \n",
    "    data = {}\n",
    "    for i in range(len(os.listdir(img_dir))):\n",
    "        # Get all rows belonging to the same scene\n",
    "        scene = annot[annot['filename'] == f'{i}.jpg']\n",
    "        # Read the image\n",
    "        img = cv2.imread(os.path.join(img_dir, f'{i}.jpg'))\n",
    "        \n",
    "        # Add bounding box information for dlib\n",
    "        bboxes = []\n",
    "        for row in scene.values:\n",
    "            x1, y1, x2, y2 = row[-4:]\n",
    "            dlib_box = dlib.rectangle(left=x1 , top=y1, right=x2, bottom=y2)\n",
    "            bboxes.append(dlib_box)\n",
    "        \n",
    "        data[i] = (img, bboxes)\n",
    "    \n",
    "    return data"
   ]
  },
  {
   "cell_type": "code",
   "execution_count": 123,
   "metadata": {},
   "outputs": [],
   "source": [
    "# Load the Image Detection Data\n",
    "det_data = load_image_data('data/train/train_img_det.csv', 'data/train/images')"
   ]
  },
  {
   "cell_type": "code",
   "execution_count": 124,
   "metadata": {},
   "outputs": [
    {
     "name": "stdout",
     "output_type": "stream",
     "text": [
      "training...\n",
      "evaluating...\n",
      "Training Results: precision: 1, recall: 1, average precision: 1\n",
      "Saved the model to detector.svm\n",
      "CPU times: user 18.6 s, sys: 480 ms, total: 19.1 s\n",
      "Wall time: 19.1 s\n"
     ]
    }
   ],
   "source": [
    "%%time\n",
    "# Train the Model\n",
    "train_detector(det_data, 'detector.svm')"
   ]
  },
  {
   "cell_type": "markdown",
   "metadata": {},
   "source": [
    "### Shape Classifier"
   ]
  },
  {
   "cell_type": "code",
   "execution_count": 127,
   "metadata": {},
   "outputs": [],
   "source": [
    "class Binarize():\n",
    "    '''PyTorch Transforms Object'''\n",
    "    def __init__(self):\n",
    "        '''Converts Grayscale to Binary (except white every other color is zeroed)'''\n",
    "        pass\n",
    "    \n",
    "    def __call__(self, img_tensor):\n",
    "        '''\n",
    "        Args:\n",
    "            img_tensor (tensor): 0-1 scaled tensor with 1 channel\n",
    "        Returns:\n",
    "            tensor\n",
    "        '''\n",
    "        return (img_tensor > 0.95).float()"
   ]
  },
  {
   "cell_type": "code",
   "execution_count": 128,
   "metadata": {},
   "outputs": [],
   "source": [
    "# Load the images\n",
    "shapes_data = ImageFolder('data/shapes_data/', transform=tfms.Compose([tfms.Grayscale(), \n",
    "                                                                       tfms.Resize((40, 40)), \n",
    "                                                                       tfms.ToTensor(),\n",
    "                                                                       Binarize()]))"
   ]
  },
  {
   "cell_type": "code",
   "execution_count": 129,
   "metadata": {},
   "outputs": [
    {
     "data": {
      "text/plain": [
       "{'circle': 0, 'rectangle': 1}"
      ]
     },
     "execution_count": 129,
     "metadata": {},
     "output_type": "execute_result"
    }
   ],
   "source": [
    "shapes_data.class_to_idx"
   ]
  },
  {
   "cell_type": "code",
   "execution_count": 130,
   "metadata": {},
   "outputs": [],
   "source": [
    "# Create the dataloader\n",
    "shapes_loader = DataLoader(shapes_data, batch_size=20, shuffle=True)"
   ]
  },
  {
   "cell_type": "code",
   "execution_count": 131,
   "metadata": {},
   "outputs": [],
   "source": [
    "# Model\n",
    "shape_classifier = ShapeClassifier()"
   ]
  },
  {
   "cell_type": "code",
   "execution_count": 132,
   "metadata": {
    "scrolled": true
   },
   "outputs": [
    {
     "data": {
      "application/vnd.jupyter.widget-view+json": {
       "model_id": "af7e21da698548038f10dd47cac70e0a",
       "version_major": 2,
       "version_minor": 0
      },
      "text/plain": [
       "Epoch 1:   0%|          | 0/6 [00:00<?, ?it/s]"
      ]
     },
     "metadata": {},
     "output_type": "display_data"
    },
    {
     "name": "stdout",
     "output_type": "stream",
     "text": [
      "Epoch 1: Mean Loss = 0.6039887468020121\n"
     ]
    },
    {
     "data": {
      "application/vnd.jupyter.widget-view+json": {
       "model_id": "5a15e83e450442a1b4e79ba61ea8faca",
       "version_major": 2,
       "version_minor": 0
      },
      "text/plain": [
       "Epoch 2:   0%|          | 0/6 [00:00<?, ?it/s]"
      ]
     },
     "metadata": {},
     "output_type": "display_data"
    },
    {
     "name": "stdout",
     "output_type": "stream",
     "text": [
      "Epoch 2: Mean Loss = 0.41530174513657886\n"
     ]
    },
    {
     "data": {
      "application/vnd.jupyter.widget-view+json": {
       "model_id": "d70bf2a590af4a68b419e2b3adef0f71",
       "version_major": 2,
       "version_minor": 0
      },
      "text/plain": [
       "Epoch 3:   0%|          | 0/6 [00:00<?, ?it/s]"
      ]
     },
     "metadata": {},
     "output_type": "display_data"
    },
    {
     "name": "stdout",
     "output_type": "stream",
     "text": [
      "Epoch 3: Mean Loss = 0.28334113707145053\n"
     ]
    },
    {
     "data": {
      "application/vnd.jupyter.widget-view+json": {
       "model_id": "ae981a97afe24a1495834a2eda56e8fb",
       "version_major": 2,
       "version_minor": 0
      },
      "text/plain": [
       "Epoch 4:   0%|          | 0/6 [00:00<?, ?it/s]"
      ]
     },
     "metadata": {},
     "output_type": "display_data"
    },
    {
     "name": "stdout",
     "output_type": "stream",
     "text": [
      "Epoch 4: Mean Loss = 0.21128164728482565\n"
     ]
    },
    {
     "data": {
      "application/vnd.jupyter.widget-view+json": {
       "model_id": "9a7189ebeac2471dab58390f50924042",
       "version_major": 2,
       "version_minor": 0
      },
      "text/plain": [
       "Epoch 5:   0%|          | 0/6 [00:00<?, ?it/s]"
      ]
     },
     "metadata": {},
     "output_type": "display_data"
    },
    {
     "name": "stdout",
     "output_type": "stream",
     "text": [
      "Epoch 5: Mean Loss = 0.1406902658442656\n"
     ]
    },
    {
     "data": {
      "application/vnd.jupyter.widget-view+json": {
       "model_id": "4fd3148158664b31a9621746f77a4c75",
       "version_major": 2,
       "version_minor": 0
      },
      "text/plain": [
       "Epoch 6:   0%|          | 0/6 [00:00<?, ?it/s]"
      ]
     },
     "metadata": {},
     "output_type": "display_data"
    },
    {
     "name": "stdout",
     "output_type": "stream",
     "text": [
      "Epoch 6: Mean Loss = 0.10996548707286517\n"
     ]
    },
    {
     "data": {
      "application/vnd.jupyter.widget-view+json": {
       "model_id": "2879b8c3b53448bd9de17b1c27439e13",
       "version_major": 2,
       "version_minor": 0
      },
      "text/plain": [
       "Epoch 7:   0%|          | 0/6 [00:00<?, ?it/s]"
      ]
     },
     "metadata": {},
     "output_type": "display_data"
    },
    {
     "name": "stdout",
     "output_type": "stream",
     "text": [
      "Epoch 7: Mean Loss = 0.10069673632582028\n"
     ]
    },
    {
     "data": {
      "application/vnd.jupyter.widget-view+json": {
       "model_id": "4596fc85f2b74cb2b58170640343fcaf",
       "version_major": 2,
       "version_minor": 0
      },
      "text/plain": [
       "Epoch 8:   0%|          | 0/6 [00:00<?, ?it/s]"
      ]
     },
     "metadata": {},
     "output_type": "display_data"
    },
    {
     "name": "stdout",
     "output_type": "stream",
     "text": [
      "Epoch 8: Mean Loss = 0.07142693952967723\n"
     ]
    },
    {
     "data": {
      "application/vnd.jupyter.widget-view+json": {
       "model_id": "441a5897423e44b0825a4013b935475a",
       "version_major": 2,
       "version_minor": 0
      },
      "text/plain": [
       "Epoch 9:   0%|          | 0/6 [00:00<?, ?it/s]"
      ]
     },
     "metadata": {},
     "output_type": "display_data"
    },
    {
     "name": "stdout",
     "output_type": "stream",
     "text": [
      "Epoch 9: Mean Loss = 0.06024649366736412\n"
     ]
    },
    {
     "data": {
      "application/vnd.jupyter.widget-view+json": {
       "model_id": "362d4910e62447fd9b210cfa250607b2",
       "version_major": 2,
       "version_minor": 0
      },
      "text/plain": [
       "Epoch 10:   0%|          | 0/6 [00:00<?, ?it/s]"
      ]
     },
     "metadata": {},
     "output_type": "display_data"
    },
    {
     "name": "stdout",
     "output_type": "stream",
     "text": [
      "Epoch 10: Mean Loss = 0.05058538603285948\n"
     ]
    },
    {
     "data": {
      "application/vnd.jupyter.widget-view+json": {
       "model_id": "e59a0dbdf18b465cb7f69bf9521dec9f",
       "version_major": 2,
       "version_minor": 0
      },
      "text/plain": [
       "Epoch 11:   0%|          | 0/6 [00:00<?, ?it/s]"
      ]
     },
     "metadata": {},
     "output_type": "display_data"
    },
    {
     "name": "stdout",
     "output_type": "stream",
     "text": [
      "Epoch 11: Mean Loss = 0.05192858663698038\n"
     ]
    },
    {
     "data": {
      "application/vnd.jupyter.widget-view+json": {
       "model_id": "f806cfbfbace47b7803811b074d0532d",
       "version_major": 2,
       "version_minor": 0
      },
      "text/plain": [
       "Epoch 12:   0%|          | 0/6 [00:00<?, ?it/s]"
      ]
     },
     "metadata": {},
     "output_type": "display_data"
    },
    {
     "name": "stdout",
     "output_type": "stream",
     "text": [
      "Epoch 12: Mean Loss = 0.04181222307185332\n"
     ]
    },
    {
     "data": {
      "application/vnd.jupyter.widget-view+json": {
       "model_id": "880aeacd8b554d13adc71dbbb4afd618",
       "version_major": 2,
       "version_minor": 0
      },
      "text/plain": [
       "Epoch 13:   0%|          | 0/6 [00:00<?, ?it/s]"
      ]
     },
     "metadata": {},
     "output_type": "display_data"
    },
    {
     "name": "stdout",
     "output_type": "stream",
     "text": [
      "Epoch 13: Mean Loss = 0.03656678864111503\n"
     ]
    },
    {
     "data": {
      "application/vnd.jupyter.widget-view+json": {
       "model_id": "168de8ab38024373aab851dc81e8ccf3",
       "version_major": 2,
       "version_minor": 0
      },
      "text/plain": [
       "Epoch 14:   0%|          | 0/6 [00:00<?, ?it/s]"
      ]
     },
     "metadata": {},
     "output_type": "display_data"
    },
    {
     "name": "stdout",
     "output_type": "stream",
     "text": [
      "Epoch 14: Mean Loss = 0.024312425404787064\n"
     ]
    },
    {
     "data": {
      "application/vnd.jupyter.widget-view+json": {
       "model_id": "f5446f6733c44a02a7b31b4c3c488e9a",
       "version_major": 2,
       "version_minor": 0
      },
      "text/plain": [
       "Epoch 15:   0%|          | 0/6 [00:00<?, ?it/s]"
      ]
     },
     "metadata": {},
     "output_type": "display_data"
    },
    {
     "name": "stdout",
     "output_type": "stream",
     "text": [
      "Epoch 15: Mean Loss = 0.024032527580857277\n"
     ]
    },
    {
     "data": {
      "application/vnd.jupyter.widget-view+json": {
       "model_id": "a4b47607e8af49e4b5ec2d35b9f15796",
       "version_major": 2,
       "version_minor": 0
      },
      "text/plain": [
       "Epoch 16:   0%|          | 0/6 [00:00<?, ?it/s]"
      ]
     },
     "metadata": {},
     "output_type": "display_data"
    },
    {
     "name": "stdout",
     "output_type": "stream",
     "text": [
      "Epoch 16: Mean Loss = 0.022771989771475393\n"
     ]
    },
    {
     "data": {
      "application/vnd.jupyter.widget-view+json": {
       "model_id": "9ebc7539bac54d92bfd439861bb5043a",
       "version_major": 2,
       "version_minor": 0
      },
      "text/plain": [
       "Epoch 17:   0%|          | 0/6 [00:00<?, ?it/s]"
      ]
     },
     "metadata": {},
     "output_type": "display_data"
    },
    {
     "name": "stdout",
     "output_type": "stream",
     "text": [
      "Epoch 17: Mean Loss = 0.019302071848263342\n"
     ]
    },
    {
     "data": {
      "application/vnd.jupyter.widget-view+json": {
       "model_id": "16b9f2ad491c421fbf43d47f5bb17626",
       "version_major": 2,
       "version_minor": 0
      },
      "text/plain": [
       "Epoch 18:   0%|          | 0/6 [00:00<?, ?it/s]"
      ]
     },
     "metadata": {},
     "output_type": "display_data"
    },
    {
     "name": "stdout",
     "output_type": "stream",
     "text": [
      "Epoch 18: Mean Loss = 0.01842119498178363\n"
     ]
    },
    {
     "data": {
      "application/vnd.jupyter.widget-view+json": {
       "model_id": "896afc7a15574165816bfcf77c170177",
       "version_major": 2,
       "version_minor": 0
      },
      "text/plain": [
       "Epoch 19:   0%|          | 0/6 [00:00<?, ?it/s]"
      ]
     },
     "metadata": {},
     "output_type": "display_data"
    },
    {
     "name": "stdout",
     "output_type": "stream",
     "text": [
      "Epoch 19: Mean Loss = 0.025032054555291932\n"
     ]
    },
    {
     "data": {
      "application/vnd.jupyter.widget-view+json": {
       "model_id": "d1fca499df2d4146b7439436a8cd3b3a",
       "version_major": 2,
       "version_minor": 0
      },
      "text/plain": [
       "Epoch 20:   0%|          | 0/6 [00:00<?, ?it/s]"
      ]
     },
     "metadata": {},
     "output_type": "display_data"
    },
    {
     "name": "stdout",
     "output_type": "stream",
     "text": [
      "Epoch 20: Mean Loss = 0.017528797111784417\n"
     ]
    },
    {
     "data": {
      "application/vnd.jupyter.widget-view+json": {
       "model_id": "6766dd429c4943f984b4f94649200023",
       "version_major": 2,
       "version_minor": 0
      },
      "text/plain": [
       "Epoch 21:   0%|          | 0/6 [00:00<?, ?it/s]"
      ]
     },
     "metadata": {},
     "output_type": "display_data"
    },
    {
     "name": "stdout",
     "output_type": "stream",
     "text": [
      "Epoch 21: Mean Loss = 0.013958399494489035\n"
     ]
    },
    {
     "data": {
      "application/vnd.jupyter.widget-view+json": {
       "model_id": "544462accc1f49eeb128e10955cce786",
       "version_major": 2,
       "version_minor": 0
      },
      "text/plain": [
       "Epoch 22:   0%|          | 0/6 [00:00<?, ?it/s]"
      ]
     },
     "metadata": {},
     "output_type": "display_data"
    },
    {
     "name": "stdout",
     "output_type": "stream",
     "text": [
      "Epoch 22: Mean Loss = 0.010131571674719453\n"
     ]
    },
    {
     "data": {
      "application/vnd.jupyter.widget-view+json": {
       "model_id": "c10640bb3a4844efb7707358c1dc8d54",
       "version_major": 2,
       "version_minor": 0
      },
      "text/plain": [
       "Epoch 23:   0%|          | 0/6 [00:00<?, ?it/s]"
      ]
     },
     "metadata": {},
     "output_type": "display_data"
    },
    {
     "name": "stdout",
     "output_type": "stream",
     "text": [
      "Epoch 23: Mean Loss = 0.006331861678821345\n"
     ]
    },
    {
     "data": {
      "application/vnd.jupyter.widget-view+json": {
       "model_id": "35aa119ff9af4d5e96d9dc7363df0e20",
       "version_major": 2,
       "version_minor": 0
      },
      "text/plain": [
       "Epoch 24:   0%|          | 0/6 [00:00<?, ?it/s]"
      ]
     },
     "metadata": {},
     "output_type": "display_data"
    },
    {
     "name": "stdout",
     "output_type": "stream",
     "text": [
      "Epoch 24: Mean Loss = 0.006302978338984151\n"
     ]
    },
    {
     "data": {
      "application/vnd.jupyter.widget-view+json": {
       "model_id": "b2305590e91e4f708ff655faced564da",
       "version_major": 2,
       "version_minor": 0
      },
      "text/plain": [
       "Epoch 25:   0%|          | 0/6 [00:00<?, ?it/s]"
      ]
     },
     "metadata": {},
     "output_type": "display_data"
    },
    {
     "name": "stdout",
     "output_type": "stream",
     "text": [
      "Epoch 25: Mean Loss = 0.005082986395185192\n"
     ]
    },
    {
     "data": {
      "application/vnd.jupyter.widget-view+json": {
       "model_id": "b0d5f047d404421fa7ee6cf35ed12d5f",
       "version_major": 2,
       "version_minor": 0
      },
      "text/plain": [
       "Epoch 26:   0%|          | 0/6 [00:00<?, ?it/s]"
      ]
     },
     "metadata": {},
     "output_type": "display_data"
    },
    {
     "name": "stdout",
     "output_type": "stream",
     "text": [
      "Epoch 26: Mean Loss = 0.005988985261258979\n"
     ]
    },
    {
     "data": {
      "application/vnd.jupyter.widget-view+json": {
       "model_id": "56468f3d071d4bf0b16438a63fa510d7",
       "version_major": 2,
       "version_minor": 0
      },
      "text/plain": [
       "Epoch 27:   0%|          | 0/6 [00:00<?, ?it/s]"
      ]
     },
     "metadata": {},
     "output_type": "display_data"
    },
    {
     "name": "stdout",
     "output_type": "stream",
     "text": [
      "Epoch 27: Mean Loss = 0.0054282959511814015\n"
     ]
    },
    {
     "data": {
      "application/vnd.jupyter.widget-view+json": {
       "model_id": "e45669bcf6ac43808667b219249d7ce5",
       "version_major": 2,
       "version_minor": 0
      },
      "text/plain": [
       "Epoch 28:   0%|          | 0/6 [00:00<?, ?it/s]"
      ]
     },
     "metadata": {},
     "output_type": "display_data"
    },
    {
     "name": "stdout",
     "output_type": "stream",
     "text": [
      "Epoch 28: Mean Loss = 0.006267320403518776\n"
     ]
    },
    {
     "data": {
      "application/vnd.jupyter.widget-view+json": {
       "model_id": "b1c42ba22504477486f5454de20bb4f7",
       "version_major": 2,
       "version_minor": 0
      },
      "text/plain": [
       "Epoch 29:   0%|          | 0/6 [00:00<?, ?it/s]"
      ]
     },
     "metadata": {},
     "output_type": "display_data"
    },
    {
     "name": "stdout",
     "output_type": "stream",
     "text": [
      "Epoch 29: Mean Loss = 0.006877205606239538\n"
     ]
    },
    {
     "data": {
      "application/vnd.jupyter.widget-view+json": {
       "model_id": "ddbd565986eb43e18811552accbcb135",
       "version_major": 2,
       "version_minor": 0
      },
      "text/plain": [
       "Epoch 30:   0%|          | 0/6 [00:00<?, ?it/s]"
      ]
     },
     "metadata": {},
     "output_type": "display_data"
    },
    {
     "name": "stdout",
     "output_type": "stream",
     "text": [
      "Epoch 30: Mean Loss = 0.005691822113779684\n"
     ]
    },
    {
     "data": {
      "application/vnd.jupyter.widget-view+json": {
       "model_id": "016e1a09d6c0453f9c50a4f5edf290c7",
       "version_major": 2,
       "version_minor": 0
      },
      "text/plain": [
       "Epoch 31:   0%|          | 0/6 [00:00<?, ?it/s]"
      ]
     },
     "metadata": {},
     "output_type": "display_data"
    },
    {
     "name": "stdout",
     "output_type": "stream",
     "text": [
      "Epoch 31: Mean Loss = 0.005923641370221351\n"
     ]
    },
    {
     "data": {
      "application/vnd.jupyter.widget-view+json": {
       "model_id": "30eeeaba48e9448c844548714bc6a554",
       "version_major": 2,
       "version_minor": 0
      },
      "text/plain": [
       "Epoch 32:   0%|          | 0/6 [00:00<?, ?it/s]"
      ]
     },
     "metadata": {},
     "output_type": "display_data"
    },
    {
     "name": "stdout",
     "output_type": "stream",
     "text": [
      "Epoch 32: Mean Loss = 0.006991453391189377\n"
     ]
    },
    {
     "data": {
      "application/vnd.jupyter.widget-view+json": {
       "model_id": "f9a18374f4534ce5a0b86ee3aa99147a",
       "version_major": 2,
       "version_minor": 0
      },
      "text/plain": [
       "Epoch 33:   0%|          | 0/6 [00:00<?, ?it/s]"
      ]
     },
     "metadata": {},
     "output_type": "display_data"
    },
    {
     "name": "stdout",
     "output_type": "stream",
     "text": [
      "Epoch 33: Mean Loss = 0.004987677481646339\n"
     ]
    },
    {
     "data": {
      "application/vnd.jupyter.widget-view+json": {
       "model_id": "3070e2c0105240ae850c1e2fe998f73d",
       "version_major": 2,
       "version_minor": 0
      },
      "text/plain": [
       "Epoch 34:   0%|          | 0/6 [00:00<?, ?it/s]"
      ]
     },
     "metadata": {},
     "output_type": "display_data"
    },
    {
     "name": "stdout",
     "output_type": "stream",
     "text": [
      "Epoch 34: Mean Loss = 0.006412222593401869\n"
     ]
    },
    {
     "data": {
      "application/vnd.jupyter.widget-view+json": {
       "model_id": "8abd7890279a4b409b56ce28aa518485",
       "version_major": 2,
       "version_minor": 0
      },
      "text/plain": [
       "Epoch 35:   0%|          | 0/6 [00:00<?, ?it/s]"
      ]
     },
     "metadata": {},
     "output_type": "display_data"
    },
    {
     "name": "stdout",
     "output_type": "stream",
     "text": [
      "Epoch 35: Mean Loss = 0.004457140884672602\n"
     ]
    },
    {
     "data": {
      "application/vnd.jupyter.widget-view+json": {
       "model_id": "361b5d6859c94b63ac310bab3ae838a8",
       "version_major": 2,
       "version_minor": 0
      },
      "text/plain": [
       "Epoch 36:   0%|          | 0/6 [00:00<?, ?it/s]"
      ]
     },
     "metadata": {},
     "output_type": "display_data"
    },
    {
     "name": "stdout",
     "output_type": "stream",
     "text": [
      "Epoch 36: Mean Loss = 0.004063519629805039\n"
     ]
    },
    {
     "data": {
      "application/vnd.jupyter.widget-view+json": {
       "model_id": "d6ff3459baed4dfb986efe2dec1eaafc",
       "version_major": 2,
       "version_minor": 0
      },
      "text/plain": [
       "Epoch 37:   0%|          | 0/6 [00:00<?, ?it/s]"
      ]
     },
     "metadata": {},
     "output_type": "display_data"
    },
    {
     "name": "stdout",
     "output_type": "stream",
     "text": [
      "Epoch 37: Mean Loss = 0.0034285787163147083\n"
     ]
    },
    {
     "data": {
      "application/vnd.jupyter.widget-view+json": {
       "model_id": "c38a71da06aa490689ec5720122feb7d",
       "version_major": 2,
       "version_minor": 0
      },
      "text/plain": [
       "Epoch 38:   0%|          | 0/6 [00:00<?, ?it/s]"
      ]
     },
     "metadata": {},
     "output_type": "display_data"
    },
    {
     "name": "stdout",
     "output_type": "stream",
     "text": [
      "Epoch 38: Mean Loss = 0.0038835076071942845\n"
     ]
    },
    {
     "data": {
      "application/vnd.jupyter.widget-view+json": {
       "model_id": "5fc1d7a9d817404fae322b89319d00b1",
       "version_major": 2,
       "version_minor": 0
      },
      "text/plain": [
       "Epoch 39:   0%|          | 0/6 [00:00<?, ?it/s]"
      ]
     },
     "metadata": {},
     "output_type": "display_data"
    },
    {
     "name": "stdout",
     "output_type": "stream",
     "text": [
      "Epoch 39: Mean Loss = 0.0027358955315624676\n"
     ]
    },
    {
     "data": {
      "application/vnd.jupyter.widget-view+json": {
       "model_id": "aacabef1fe9e4f519b87c51ce556313e",
       "version_major": 2,
       "version_minor": 0
      },
      "text/plain": [
       "Epoch 40:   0%|          | 0/6 [00:00<?, ?it/s]"
      ]
     },
     "metadata": {},
     "output_type": "display_data"
    },
    {
     "name": "stdout",
     "output_type": "stream",
     "text": [
      "Epoch 40: Mean Loss = 0.008126459074749922\n"
     ]
    },
    {
     "data": {
      "application/vnd.jupyter.widget-view+json": {
       "model_id": "106f1b7a2d5f4c10ae1fee61dc327ba0",
       "version_major": 2,
       "version_minor": 0
      },
      "text/plain": [
       "Epoch 41:   0%|          | 0/6 [00:00<?, ?it/s]"
      ]
     },
     "metadata": {},
     "output_type": "display_data"
    },
    {
     "name": "stdout",
     "output_type": "stream",
     "text": [
      "Epoch 41: Mean Loss = 0.002690923400223255\n"
     ]
    },
    {
     "data": {
      "application/vnd.jupyter.widget-view+json": {
       "model_id": "08c7580ff4b7403988c23afef560ae3a",
       "version_major": 2,
       "version_minor": 0
      },
      "text/plain": [
       "Epoch 42:   0%|          | 0/6 [00:00<?, ?it/s]"
      ]
     },
     "metadata": {},
     "output_type": "display_data"
    },
    {
     "name": "stdout",
     "output_type": "stream",
     "text": [
      "Epoch 42: Mean Loss = 0.0016404708973520126\n"
     ]
    },
    {
     "data": {
      "application/vnd.jupyter.widget-view+json": {
       "model_id": "7d31cfa32f9a4cd988a3612d4f401248",
       "version_major": 2,
       "version_minor": 0
      },
      "text/plain": [
       "Epoch 43:   0%|          | 0/6 [00:00<?, ?it/s]"
      ]
     },
     "metadata": {},
     "output_type": "display_data"
    },
    {
     "name": "stdout",
     "output_type": "stream",
     "text": [
      "Epoch 43: Mean Loss = 0.0011844646166233967\n"
     ]
    },
    {
     "data": {
      "application/vnd.jupyter.widget-view+json": {
       "model_id": "c1a8de500fad4de4848421cf79a97fa3",
       "version_major": 2,
       "version_minor": 0
      },
      "text/plain": [
       "Epoch 44:   0%|          | 0/6 [00:00<?, ?it/s]"
      ]
     },
     "metadata": {},
     "output_type": "display_data"
    },
    {
     "name": "stdout",
     "output_type": "stream",
     "text": [
      "Epoch 44: Mean Loss = 0.001179079437861219\n"
     ]
    },
    {
     "data": {
      "application/vnd.jupyter.widget-view+json": {
       "model_id": "069df3a8c32e44e1b92bffebbc639870",
       "version_major": 2,
       "version_minor": 0
      },
      "text/plain": [
       "Epoch 45:   0%|          | 0/6 [00:00<?, ?it/s]"
      ]
     },
     "metadata": {},
     "output_type": "display_data"
    },
    {
     "name": "stdout",
     "output_type": "stream",
     "text": [
      "Epoch 45: Mean Loss = 0.0033490405233654505\n"
     ]
    },
    {
     "data": {
      "application/vnd.jupyter.widget-view+json": {
       "model_id": "28454dca18a94fd19b6eec8bb139bbfa",
       "version_major": 2,
       "version_minor": 0
      },
      "text/plain": [
       "Epoch 46:   0%|          | 0/6 [00:00<?, ?it/s]"
      ]
     },
     "metadata": {},
     "output_type": "display_data"
    },
    {
     "name": "stdout",
     "output_type": "stream",
     "text": [
      "Epoch 46: Mean Loss = 0.0007484110380270673\n"
     ]
    },
    {
     "data": {
      "application/vnd.jupyter.widget-view+json": {
       "model_id": "586e35efe9154ed5bd0d9ef94a52b927",
       "version_major": 2,
       "version_minor": 0
      },
      "text/plain": [
       "Epoch 47:   0%|          | 0/6 [00:00<?, ?it/s]"
      ]
     },
     "metadata": {},
     "output_type": "display_data"
    },
    {
     "name": "stdout",
     "output_type": "stream",
     "text": [
      "Epoch 47: Mean Loss = 0.0005243754155041339\n"
     ]
    },
    {
     "data": {
      "application/vnd.jupyter.widget-view+json": {
       "model_id": "5f301a4d2c0c45c2b1650bc3d4085970",
       "version_major": 2,
       "version_minor": 0
      },
      "text/plain": [
       "Epoch 48:   0%|          | 0/6 [00:00<?, ?it/s]"
      ]
     },
     "metadata": {},
     "output_type": "display_data"
    },
    {
     "name": "stdout",
     "output_type": "stream",
     "text": [
      "Epoch 48: Mean Loss = 0.0006068495325356101\n"
     ]
    },
    {
     "data": {
      "application/vnd.jupyter.widget-view+json": {
       "model_id": "f71d8e51b0fd4512a18b1841e597ebe0",
       "version_major": 2,
       "version_minor": 0
      },
      "text/plain": [
       "Epoch 49:   0%|          | 0/6 [00:00<?, ?it/s]"
      ]
     },
     "metadata": {},
     "output_type": "display_data"
    },
    {
     "name": "stdout",
     "output_type": "stream",
     "text": [
      "Epoch 49: Mean Loss = 0.001965579286964688\n"
     ]
    },
    {
     "data": {
      "application/vnd.jupyter.widget-view+json": {
       "model_id": "ea42943f39c84254b2ed7656b51b2c20",
       "version_major": 2,
       "version_minor": 0
      },
      "text/plain": [
       "Epoch 50:   0%|          | 0/6 [00:00<?, ?it/s]"
      ]
     },
     "metadata": {},
     "output_type": "display_data"
    },
    {
     "name": "stdout",
     "output_type": "stream",
     "text": [
      "Epoch 50: Mean Loss = 0.001407960621387853\n"
     ]
    }
   ],
   "source": [
    "# Train\n",
    "shape_classifier.train_classifier(shapes_loader, lr=0.0001, epochs=50, filename='classifier.pth')"
   ]
  },
  {
   "cell_type": "markdown",
   "metadata": {},
   "source": [
    "### Perception Pipeline\n",
    "`detector -> attribute (shape and color) extraction -> structural scene representation`"
   ]
  },
  {
   "cell_type": "code",
   "execution_count": 133,
   "metadata": {},
   "outputs": [],
   "source": [
    "# Load the Model\n",
    "perceiver = PerceptionPipe('detector.svm', 'classifier.pth', device='cuda')"
   ]
  },
  {
   "cell_type": "markdown",
   "metadata": {},
   "source": [
    "### Breakdown"
   ]
  },
  {
   "cell_type": "code",
   "execution_count": 134,
   "metadata": {
    "scrolled": true
   },
   "outputs": [],
   "source": [
    "# Inference with Detector\n",
    "objects = perceiver.detect(img)\n",
    "# objects\n",
    "# for img in objects:\n",
    "#    cv2.imshow('frame', img[0])\n",
    "#    break"
   ]
  },
  {
   "cell_type": "code",
   "execution_count": 28,
   "metadata": {},
   "outputs": [],
   "source": [
    "# View the isolated objects (this will not work in colab as its headless)\n",
    "# for obj, _ in objects:\n",
    "#     cv2.imshow('frame', obj)\n",
    "#     cv2.waitKey(0)\n",
    "#     cv2.destroyAllWindows()"
   ]
  },
  {
   "cell_type": "code",
   "execution_count": 135,
   "metadata": {},
   "outputs": [
    {
     "name": "stdout",
     "output_type": "stream",
     "text": [
      "Shape = rectangle\n",
      "Color = red\n"
     ]
    }
   ],
   "source": [
    "# Inference with Attribute Extractor (Shape Classifier, Color Extractor)\n",
    "shape, color = perceiver.extract_attributes(objects[3][0])\n",
    "print(f'Shape = {shape}\\nColor = {color}')"
   ]
  },
  {
   "cell_type": "code",
   "execution_count": 136,
   "metadata": {},
   "outputs": [
    {
     "name": "stdout",
     "output_type": "stream",
     "text": [
      "(40, 40)\n"
     ]
    },
    {
     "data": {
      "application/vnd.jupyter.widget-view+json": {
       "model_id": "e82b8e9be5c44d868343f4e0569da388",
       "version_major": 2,
       "version_minor": 0
      },
      "text/plain": [
       "  0%|          | 0/1000 [00:00<?, ?it/s]"
      ]
     },
     "metadata": {},
     "output_type": "display_data"
    },
    {
     "data": {
      "text/plain": [
       "<matplotlib.image.AxesImage at 0x7fb8c9a497d0>"
      ]
     },
     "execution_count": 136,
     "metadata": {},
     "output_type": "execute_result"
    },
    {
     "data": {
      "image/png": "[encoded data removed]",
      "text/plain": [
       "<Figure size 432x288 with 1 Axes>"
      ]
     },
     "metadata": {
      "needs_background": "light"
     },
     "output_type": "display_data"
    }
   ],
   "source": [
    "explanation = perceiver.explain(objects[3][0])\n",
    "\n",
    "from skimage.segmentation import mark_boundaries\n",
    "\n",
    "temp, mask = explanation.get_image_and_mask(0, positive_only=False, num_features=5, hide_rest=True)\n",
    "\n",
    "plt.imshow(mark_boundaries(temp, mask))"
   ]
  },
  {
   "cell_type": "markdown",
   "metadata": {},
   "source": [
    "### Pipeline"
   ]
  },
  {
   "cell_type": "code",
   "execution_count": 138,
   "metadata": {},
   "outputs": [
    {
     "data": {
      "text/plain": [
       "(       shape   color    position\n",
       " 0  rectangle  yellow  (191, 120)\n",
       " 1  rectangle    gray  (143, 172)\n",
       " 2     circle  orange   (155, 28)\n",
       " 3  rectangle     red    (83, 44)\n",
       " 4     circle   green   (19, 172)\n",
       " 5  rectangle    blue    (19, 68),\n",
       "        shape   color    position\n",
       " 0  rectangle  yellow  (191, 120)\n",
       " 1  rectangle    gray  (143, 172)\n",
       " 2     circle  orange   (155, 28)\n",
       " 3  rectangle     red    (83, 44)\n",
       " 4     circle   green   (19, 172)\n",
       " 5  rectangle    blue    (19, 68))"
      ]
     },
     "execution_count": 138,
     "metadata": {},
     "output_type": "execute_result"
    }
   ],
   "source": [
    "scene = perceiver.scene_repr(img)\n",
    "scene"
   ]
  },
  {
   "cell_type": "markdown",
   "metadata": {},
   "source": [
    "## Semantic Parser"
   ]
  },
  {
   "cell_type": "markdown",
   "metadata": {},
   "source": [
    "### Preprocess Data"
   ]
  },
  {
   "cell_type": "code",
   "execution_count": 208,
   "metadata": {},
   "outputs": [],
   "source": [
    "from semantic_parser import *\n",
    "from torchtext.legacy.data import BucketIterator"
   ]
  },
  {
   "cell_type": "code",
   "execution_count": 209,
   "metadata": {},
   "outputs": [],
   "source": [
    "# Create the preprocessor object and preprocess\n",
    "preproc = Preprocessor('data/train/train_q2p.csv')"
   ]
  },
  {
   "cell_type": "code",
   "execution_count": 210,
   "metadata": {},
   "outputs": [],
   "source": [
    "# Get the dataset object\n",
    "train_data = preproc.train_data"
   ]
  },
  {
   "cell_type": "code",
   "execution_count": 211,
   "metadata": {
    "scrolled": true
   },
   "outputs": [
    {
     "data": {
      "text/plain": [
       "defaultdict(<bound method Vocab._default_unk_index of <torchtext.legacy.vocab.Vocab object at 0x7fb8bc4143d0>>,\n",
       "            {'<unk>': 0,\n",
       "             '<pad>': 1,\n",
       "             '<sos>': 2,\n",
       "             '<eos>': 3,\n",
       "             '<nxt>': 4,\n",
       "             'filter': 5,\n",
       "             'query': 6,\n",
       "             'shape': 7,\n",
       "             'position': 8,\n",
       "             'relate': 9,\n",
       "             'blue': 10,\n",
       "             'isleft': 11,\n",
       "             'closest': 12,\n",
       "             'orange': 13,\n",
       "             'count': 14,\n",
       "             'green': 15,\n",
       "             'red': 16,\n",
       "             'gray': 17,\n",
       "             'furthest': 18,\n",
       "             'istop': 19,\n",
       "             'yellow': 20})"
      ]
     },
     "execution_count": 211,
     "metadata": {},
     "output_type": "execute_result"
    }
   ],
   "source": [
    "# Looking at the Vocabulary\n",
    "preproc.prog_f.vocab.stoi"
   ]
  },
  {
   "cell_type": "code",
   "execution_count": 212,
   "metadata": {
    "scrolled": true
   },
   "outputs": [
    {
     "data": {
      "text/plain": [
       "defaultdict(<bound method Vocab._default_unk_index of <torchtext.legacy.vocab.Vocab object at 0x7fb8bc414c10>>,\n",
       "            {'<unk>': 0,\n",
       "             '<pad>': 1,\n",
       "             '<sos>': 2,\n",
       "             '<eos>': 3,\n",
       "             'the': 4,\n",
       "             '?': 5,\n",
       "             'object': 6,\n",
       "             'is': 7,\n",
       "             'shape': 8,\n",
       "             'there': 9,\n",
       "             'what': 10,\n",
       "             'a': 11,\n",
       "             'on': 12,\n",
       "             'of': 13,\n",
       "             'blue': 14,\n",
       "             'left': 15,\n",
       "             'closest': 16,\n",
       "             'to': 17,\n",
       "             'orange': 18,\n",
       "             'are': 19,\n",
       "             'as': 20,\n",
       "             'how': 21,\n",
       "             'many': 22,\n",
       "             'objects': 23,\n",
       "             'same': 24,\n",
       "             'green': 25,\n",
       "             'red': 26,\n",
       "             'gray': 27,\n",
       "             'from': 28,\n",
       "             'furthest': 29,\n",
       "             'top': 30,\n",
       "             'yellow': 31})"
      ]
     },
     "execution_count": 212,
     "metadata": {},
     "output_type": "execute_result"
    }
   ],
   "source": [
    "# Looking at the Vocabulary\n",
    "preproc.que_f.vocab.stoi"
   ]
  },
  {
   "cell_type": "markdown",
   "metadata": {},
   "source": [
    "### Training"
   ]
  },
  {
   "cell_type": "code",
   "execution_count": 219,
   "metadata": {},
   "outputs": [],
   "source": [
    "# Training hyperparameters\n",
    "num_epochs = 2\n",
    "learning_rate = 1e-4\n",
    "batch_size = 32\n",
    "num_steps = len(train_data) / batch_size\n",
    "\n",
    "# Model hyperparameters\n",
    "config = {\n",
    "    'que_vocab_size': len(preproc.que_f.vocab),\n",
    "    'prog_vocab_size': len(preproc.prog_f.vocab),\n",
    "    'embedding_dim': 256,\n",
    "    'num_heads': 8,\n",
    "    'num_encoder_layers': 3,\n",
    "    'num_decoder_layers': 3,\n",
    "    'dropout': 0.10,\n",
    "    'max_len': 20,\n",
    "    'forward_expansion': 4,\n",
    "    'que_pad_idx': preproc.que_f.vocab.stoi[\"<pad>\"]\n",
    "}"
   ]
  },
  {
   "cell_type": "code",
   "execution_count": 220,
   "metadata": {},
   "outputs": [],
   "source": [
    "# Save the config as a json file\n",
    "import json\n",
    "with open('config.json', 'w') as f:\n",
    "    json.dump(config, f)"
   ]
  },
  {
   "cell_type": "code",
   "execution_count": 221,
   "metadata": {},
   "outputs": [],
   "source": [
    "device = torch.device(\"cuda\" if torch.cuda.is_available() else \"cpu\")"
   ]
  },
  {
   "cell_type": "code",
   "execution_count": 222,
   "metadata": {},
   "outputs": [],
   "source": [
    "# Create Training Generator\n",
    "train_loader = BucketIterator.splits((train_data,),\n",
    "                                     batch_size=batch_size,\n",
    "                                     sort_within_batch=True,\n",
    "                                     sort_key=lambda x: len(x.query),\n",
    "                                     device=device)[0]"
   ]
  },
  {
   "cell_type": "code",
   "execution_count": 223,
   "metadata": {},
   "outputs": [],
   "source": [
    "# Create Model\n",
    "seq2seq = Seq2Seq(config)"
   ]
  },
  {
   "cell_type": "code",
   "execution_count": 224,
   "metadata": {
    "scrolled": true
   },
   "outputs": [
    {
     "data": {
      "application/vnd.jupyter.widget-view+json": {
       "model_id": "bac5235ce55b42ba88ee41848fd9ceae",
       "version_major": 2,
       "version_minor": 0
      },
      "text/plain": [
       "Epoch 1:   0%|          | 0/625.0 [00:00<?, ?it/s]"
      ]
     },
     "metadata": {},
     "output_type": "display_data"
    },
    {
     "name": "stdout",
     "output_type": "stream",
     "text": [
      "Epoch 1: Mean Loss = 0.08652594459345564\n",
      "\n"
     ]
    },
    {
     "data": {
      "application/vnd.jupyter.widget-view+json": {
       "model_id": "42beaf8ef332492eaedecd073615fd52",
       "version_major": 2,
       "version_minor": 0
      },
      "text/plain": [
       "Epoch 2:   0%|          | 0/625.0 [00:00<?, ?it/s]"
      ]
     },
     "metadata": {},
     "output_type": "display_data"
    },
    {
     "name": "stdout",
     "output_type": "stream",
     "text": [
      "Epoch 2: Mean Loss = 0.0004301094287540764\n",
      "\n",
      "CPU times: user 39.1 s, sys: 297 ms, total: 39.4 s\n",
      "Wall time: 42.4 s\n"
     ]
    }
   ],
   "source": [
    "%%time\n",
    "# Train Model\n",
    "seq2seq.train_model(train_loader, num_epochs, num_steps, filename='semantic_parser.pth')"
   ]
  },
  {
   "cell_type": "markdown",
   "metadata": {},
   "source": [
    "### Inference on Queries"
   ]
  },
  {
   "cell_type": "code",
   "execution_count": 225,
   "metadata": {},
   "outputs": [],
   "source": [
    "sem_parser = SemanticParser(preproc, config)"
   ]
  },
  {
   "cell_type": "code",
   "execution_count": 226,
   "metadata": {},
   "outputs": [
    {
     "data": {
      "text/plain": [
       "['closest red <sos> red <sos> red <sos> red red <sos> closest red red <sos> closest red closest red <sos>']"
      ]
     },
     "execution_count": 226,
     "metadata": {},
     "output_type": "execute_result"
    }
   ],
   "source": [
    "query = 'What is the furthest shape from the green object?'\n",
    "program = sem_parser.predict(query)\n",
    "program"
   ]
  },
  {
   "cell_type": "code",
   "execution_count": 203,
   "metadata": {},
   "outputs": [
    {
     "data": {
      "image/png": "[encoded data removed]",
      "text/plain": [
       "<Figure size 432x288 with 1 Axes>"
      ]
     },
     "metadata": {
      "needs_background": "light"
     },
     "output_type": "display_data"
    }
   ],
   "source": [
    "program, attn = sem_parser.predict(query, return_attns=True, raw_prog=True)\n",
    "tokens = sem_parser.preproc.tokenizer(query)\n",
    "attn = attn.cpu()\n",
    "fig, ax = plt.subplots()\n",
    "im = ax.imshow(attn)\n",
    "\n",
    "# We want to show all ticks...\n",
    "ax.set_xticks(np.arange(len(program)))\n",
    "ax.set_yticks(np.arange(len(tokens)))\n",
    "# ... and label them with the respective list entries\n",
    "ax.set_xticklabels(program)\n",
    "ax.set_yticklabels(tokens)\n",
    "\n",
    "# Rotate the tick labels and set their alignment.\n",
    "plt.setp(ax.get_xticklabels(), rotation=45, ha=\"right\",\n",
    "         rotation_mode=\"anchor\")\n",
    "\n",
    "# Loop over data dimensions and create text annotations.\n",
    "# for i in range(len(tokens)):\n",
    "#     for j in range(len(program)):\n",
    "#         text = ax.text(j, i, attn[i, j],\n",
    "#                       ha=\"center\", va=\"center\", color=\"w\")\n",
    "\n",
    "ax.set_title(\"\")\n",
    "fig.tight_layout()\n",
    "plt.show()"
   ]
  },
  {
   "cell_type": "markdown",
   "metadata": {},
   "source": [
    "## Program Executor"
   ]
  },
  {
   "cell_type": "code",
   "execution_count": 204,
   "metadata": {},
   "outputs": [],
   "source": [
    "from program_executor import ProgramExecutor"
   ]
  },
  {
   "cell_type": "code",
   "execution_count": 205,
   "metadata": {},
   "outputs": [],
   "source": [
    "executor = ProgramExecutor()"
   ]
  },
  {
   "cell_type": "code",
   "execution_count": 206,
   "metadata": {
    "scrolled": true
   },
   "outputs": [
    {
     "data": {
      "text/plain": [
       "['What is the closest shape to the gray object?',\n",
       " 'What is the closest shape to the red object?',\n",
       " 'What is the closest shape to the orange object?',\n",
       " 'What is the furthest shape from the green object?',\n",
       " 'What is the furthest shape from the orange object?',\n",
       " 'What is the closest shape to the orange object?',\n",
       " 'What is the furthest shape from the yellow object?',\n",
       " 'How many objects of the same shape as the green object are there?',\n",
       " 'What is the closest shape to the gray object?',\n",
       " 'What is the furthest shape from the red object?',\n",
       " 'Is there a gray object on the left?',\n",
       " 'What is the shape of the gray object?',\n",
       " 'Is there a green object on the left?',\n",
       " 'What is the shape of the green object?',\n",
       " 'Is there a red object on the left?',\n",
       " 'Is there a blue object on the top?',\n",
       " 'What is the shape of the yellow object?',\n",
       " 'What is the shape of the gray object?',\n",
       " 'Is there a green object on the left?',\n",
       " 'Is there a gray object on the left?']"
      ]
     },
     "execution_count": 206,
     "metadata": {},
     "output_type": "execute_result"
    }
   ],
   "source": [
    "queries"
   ]
  },
  {
   "cell_type": "code",
   "execution_count": 156,
   "metadata": {},
   "outputs": [
    {
     "ename": "TypeError",
     "evalue": "tuple indices must be integers or slices, not str",
     "output_type": "error",
     "traceback": [
      "\u001b[0;31m---------------------------------------------------------------------------\u001b[0m",
      "\u001b[0;31mTypeError\u001b[0m                                 Traceback (most recent call last)",
      "\u001b[0;32m<ipython-input-156-41f4814390bf>\u001b[0m in \u001b[0;36m<module>\u001b[0;34m\u001b[0m\n\u001b[1;32m      3\u001b[0m \u001b[0;32mfor\u001b[0m \u001b[0mque\u001b[0m \u001b[0;32min\u001b[0m \u001b[0mqueries\u001b[0m\u001b[0;34m:\u001b[0m\u001b[0;34m\u001b[0m\u001b[0;34m\u001b[0m\u001b[0m\n\u001b[1;32m      4\u001b[0m     \u001b[0mprogram\u001b[0m \u001b[0;34m=\u001b[0m \u001b[0msem_parser\u001b[0m\u001b[0;34m.\u001b[0m\u001b[0mpredict\u001b[0m\u001b[0;34m(\u001b[0m\u001b[0mque\u001b[0m\u001b[0;34m)\u001b[0m\u001b[0;34m\u001b[0m\u001b[0;34m\u001b[0m\u001b[0m\n\u001b[0;32m----> 5\u001b[0;31m     \u001b[0mpred_ans\u001b[0m\u001b[0;34m.\u001b[0m\u001b[0mappend\u001b[0m\u001b[0;34m(\u001b[0m\u001b[0mexecutor\u001b[0m\u001b[0;34m(\u001b[0m\u001b[0mscene\u001b[0m\u001b[0;34m,\u001b[0m \u001b[0mprogram\u001b[0m\u001b[0;34m)\u001b[0m\u001b[0;34m)\u001b[0m\u001b[0;34m\u001b[0m\u001b[0;34m\u001b[0m\u001b[0m\n\u001b[0m",
      "\u001b[0;32m~/repos/neuro-symbolic-ai-soc/program_executor.py\u001b[0m in \u001b[0;36m__call__\u001b[0;34m(self, scene, program, scene_expls, program_expls)\u001b[0m\n\u001b[1;32m    102\u001b[0m                 \u001b[0mprev_out\u001b[0m \u001b[0;34m=\u001b[0m \u001b[0mself\u001b[0m\u001b[0;34m.\u001b[0m\u001b[0mfunc_executor\u001b[0m\u001b[0;34m(\u001b[0m\u001b[0margs\u001b[0m\u001b[0;34m[\u001b[0m\u001b[0;36m0\u001b[0m\u001b[0;34m]\u001b[0m\u001b[0;34m,\u001b[0m \u001b[0;32mNone\u001b[0m\u001b[0;34m,\u001b[0m \u001b[0mprev_out\u001b[0m\u001b[0;34m)\u001b[0m\u001b[0;34m\u001b[0m\u001b[0;34m\u001b[0m\u001b[0m\n\u001b[1;32m    103\u001b[0m             \u001b[0;32melse\u001b[0m\u001b[0;34m:\u001b[0m\u001b[0;34m\u001b[0m\u001b[0;34m\u001b[0m\u001b[0m\n\u001b[0;32m--> 104\u001b[0;31m                 \u001b[0mprev_out\u001b[0m \u001b[0;34m=\u001b[0m \u001b[0mself\u001b[0m\u001b[0;34m.\u001b[0m\u001b[0mfunc_executor\u001b[0m\u001b[0;34m(\u001b[0m\u001b[0margs\u001b[0m\u001b[0;34m[\u001b[0m\u001b[0;36m0\u001b[0m\u001b[0;34m]\u001b[0m\u001b[0;34m,\u001b[0m \u001b[0margs\u001b[0m\u001b[0;34m[\u001b[0m\u001b[0;36m1\u001b[0m\u001b[0;34m]\u001b[0m\u001b[0;34m,\u001b[0m \u001b[0mprev_out\u001b[0m\u001b[0;34m)\u001b[0m\u001b[0;34m\u001b[0m\u001b[0;34m\u001b[0m\u001b[0m\n\u001b[0m\u001b[1;32m    105\u001b[0m             \u001b[0;31m# print(prev_out, '\\n')\u001b[0m\u001b[0;34m\u001b[0m\u001b[0;34m\u001b[0m\u001b[0;34m\u001b[0m\u001b[0m\n\u001b[1;32m    106\u001b[0m \u001b[0;31m#             except:\u001b[0m\u001b[0;34m\u001b[0m\u001b[0;34m\u001b[0m\u001b[0;34m\u001b[0m\u001b[0m\n",
      "\u001b[0;32m~/repos/neuro-symbolic-ai-soc/program_executor.py\u001b[0m in \u001b[0;36mfunc_executor\u001b[0;34m(self, func, param, prev_out)\u001b[0m\n\u001b[1;32m     76\u001b[0m         \u001b[0;31m# 0-1 arg functions\u001b[0m\u001b[0;34m\u001b[0m\u001b[0;34m\u001b[0m\u001b[0;34m\u001b[0m\u001b[0m\n\u001b[1;32m     77\u001b[0m         \u001b[0;32mif\u001b[0m \u001b[0mfunc\u001b[0m \u001b[0;32min\u001b[0m \u001b[0;34m[\u001b[0m\u001b[0;34m'filter'\u001b[0m\u001b[0;34m]\u001b[0m\u001b[0;34m:\u001b[0m\u001b[0;34m\u001b[0m\u001b[0;34m\u001b[0m\u001b[0m\n\u001b[0;32m---> 78\u001b[0;31m             \u001b[0mprev_out\u001b[0m \u001b[0;34m=\u001b[0m \u001b[0mself\u001b[0m\u001b[0;34m.\u001b[0m\u001b[0mfilter_\u001b[0m\u001b[0;34m(\u001b[0m\u001b[0mparam\u001b[0m\u001b[0;34m)\u001b[0m \u001b[0;32mif\u001b[0m \u001b[0mparam\u001b[0m \u001b[0;34m!=\u001b[0m \u001b[0;32mNone\u001b[0m \u001b[0;32melse\u001b[0m \u001b[0mself\u001b[0m\u001b[0;34m.\u001b[0m\u001b[0mfilter_\u001b[0m\u001b[0;34m(\u001b[0m\u001b[0mprev_out\u001b[0m\u001b[0;34m)\u001b[0m\u001b[0;34m\u001b[0m\u001b[0;34m\u001b[0m\u001b[0m\n\u001b[0m\u001b[1;32m     79\u001b[0m \u001b[0;34m\u001b[0m\u001b[0m\n\u001b[1;32m     80\u001b[0m         \u001b[0;31m# Two arg functions\u001b[0m\u001b[0;34m\u001b[0m\u001b[0;34m\u001b[0m\u001b[0;34m\u001b[0m\u001b[0m\n",
      "\u001b[0;32m~/repos/neuro-symbolic-ai-soc/program_executor.py\u001b[0m in \u001b[0;36mfilter_\u001b[0;34m(self, param)\u001b[0m\n\u001b[1;32m     21\u001b[0m         \u001b[0;31m# Filter Object(s) for scene\u001b[0m\u001b[0;34m\u001b[0m\u001b[0;34m\u001b[0m\u001b[0;34m\u001b[0m\u001b[0m\n\u001b[1;32m     22\u001b[0m         \u001b[0mattr\u001b[0m \u001b[0;34m=\u001b[0m \u001b[0mself\u001b[0m\u001b[0;34m.\u001b[0m\u001b[0mget_attr\u001b[0m\u001b[0;34m(\u001b[0m\u001b[0mparam\u001b[0m\u001b[0;34m)\u001b[0m\u001b[0;34m\u001b[0m\u001b[0;34m\u001b[0m\u001b[0m\n\u001b[0;32m---> 23\u001b[0;31m         \u001b[0mfiltered_objects\u001b[0m \u001b[0;34m=\u001b[0m \u001b[0mself\u001b[0m\u001b[0;34m.\u001b[0m\u001b[0mscene\u001b[0m\u001b[0;34m[\u001b[0m\u001b[0mself\u001b[0m\u001b[0;34m.\u001b[0m\u001b[0mscene\u001b[0m\u001b[0;34m[\u001b[0m\u001b[0mattr\u001b[0m\u001b[0;34m]\u001b[0m \u001b[0;34m==\u001b[0m \u001b[0mparam\u001b[0m\u001b[0;34m]\u001b[0m\u001b[0;34m\u001b[0m\u001b[0;34m\u001b[0m\u001b[0m\n\u001b[0m\u001b[1;32m     24\u001b[0m \u001b[0;34m\u001b[0m\u001b[0m\n\u001b[1;32m     25\u001b[0m         \u001b[0;32mreturn\u001b[0m \u001b[0mfiltered_objects\u001b[0m\u001b[0;34m\u001b[0m\u001b[0;34m\u001b[0m\u001b[0m\n",
      "\u001b[0;31mTypeError\u001b[0m: tuple indices must be integers or slices, not str"
     ]
    }
   ],
   "source": [
    "# Run the program executor with on a full sample of 20 queries\n",
    "pred_ans = []\n",
    "for que in queries:\n",
    "    program = sem_parser.predict(que)\n",
    "    pred_ans.append(executor(scene, program))"
   ]
  },
  {
   "cell_type": "code",
   "execution_count": 113,
   "metadata": {},
   "outputs": [
    {
     "data": {
      "text/plain": [
       "[]"
      ]
     },
     "execution_count": 113,
     "metadata": {},
     "output_type": "execute_result"
    }
   ],
   "source": [
    "list(zip(pred_ans, answers))"
   ]
  },
  {
   "cell_type": "markdown",
   "metadata": {},
   "source": [
    "## Plugging Everything Together"
   ]
  },
  {
   "cell_type": "code",
   "execution_count": 49,
   "metadata": {},
   "outputs": [],
   "source": [
    "from program_executor import *\n",
    "from perception import *\n",
    "from semantic_parser import *\n",
    "import torch\n",
    "from skimage.io import imshow\n",
    "import cv2"
   ]
  },
  {
   "cell_type": "code",
   "execution_count": 52,
   "metadata": {},
   "outputs": [],
   "source": [
    "# Load the config file for transformers\n",
    "import json\n",
    "with open('config.json', 'r') as f:\n",
    "    config = json.load(f)"
   ]
  },
  {
   "cell_type": "code",
   "execution_count": 53,
   "metadata": {},
   "outputs": [],
   "source": [
    "class NSAIPipeline():\n",
    "    '''End-to-End Pipeline of Neuro-Symbolic AI on Sort-of-CLEVR dataset'''\n",
    "    def __init__(self, \n",
    "                 config,\n",
    "                 detector='models/detector.svm',\n",
    "                 classifier='models/classifier.pth',\n",
    "                 sem_parser='models/semantic_parser.pth',\n",
    "                 train_csv='data/train/train_q2p.csv',\n",
    "                 device=None):\n",
    "        \n",
    "        if device is None:\n",
    "            device = 'cuda' if torch.cuda.is_available() else 'cpu'\n",
    "        self.device = device\n",
    "        \n",
    "        # Perception Module\n",
    "        self.perceiver = PerceptionPipe(detector, classifier, self.device)\n",
    "        \n",
    "        # Semantic Parser\n",
    "        self.preproc = Preprocessor(train_csv)\n",
    "        self.sem_parser = SemanticParser(self.preproc, config, filename=sem_parser, device=self.device)\n",
    "        \n",
    "        # Program Executor\n",
    "        self.executor = ProgramExecutor()\n",
    "        \n",
    "    def predict(self, img, query):\n",
    "        '''\n",
    "        Make Prediction on a single image and question pair\n",
    "        \n",
    "        Args:\n",
    "            img (str/array): pixel values should be in 0-255 range\n",
    "                             of dtype uint8 in BGR color format or\n",
    "                             file path of the image\n",
    "            query (str): question about the image\n",
    "            \n",
    "        Returns:\n",
    "            str: answer of the query\n",
    "        '''\n",
    "        # Load img if it's a path\n",
    "        if type(img) == str:\n",
    "            img = cv2.imread(img)\n",
    "        \n",
    "        # Structured Scene Representation\n",
    "        scene = self.perceiver.scene_repr(img)\n",
    "        # Synthesize Program from Query\n",
    "        program = self.sem_parser.predict(query)\n",
    "        # Execute Program\n",
    "        answer = self.executor(scene, program)\n",
    "        \n",
    "        return answer, program\n",
    "    \n",
    "    def evaluate(self, csv, img_dir, debug=True):\n",
    "        '''\n",
    "        Evaluate the model on a dataset\n",
    "        \n",
    "        Args:\n",
    "            csv (str): path of the csv containing image filename, answer, query and program\n",
    "            img_dir (str): directory containing the images\n",
    "            debug (bool): View the data points which were wrong\n",
    "        Returns:\n",
    "            int: accuracy of the model\n",
    "        '''\n",
    "        data = pd.read_csv(csv).values\n",
    "        \n",
    "        correct = []\n",
    "        for filename, answer, query, program in tqdm(data):\n",
    "            # Load Image\n",
    "            img_path = os.path.join(img_dir, filename)\n",
    "            img = cv2.imread(img_path)\n",
    "            \n",
    "            # Make prediction\n",
    "            pred, pred_prog = self.predict(img, query)\n",
    "            \n",
    "            # Verify answer\n",
    "            if str(pred) == answer:\n",
    "                correct.append(1)\n",
    "            else:\n",
    "                if debug:\n",
    "                    print(filename, answer, pred, query, pred_prog)\n",
    "                correct.append(0)\n",
    "        \n",
    "        acc = (sum(correct) / len(correct)) * 100\n",
    "        \n",
    "        return acc"
   ]
  },
  {
   "cell_type": "code",
   "execution_count": 54,
   "metadata": {},
   "outputs": [],
   "source": [
    "nsai = NSAIPipeline(config)"
   ]
  },
  {
   "cell_type": "code",
   "execution_count": 55,
   "metadata": {},
   "outputs": [
    {
     "data": {
      "text/plain": [
       "(6, ['filter gray', 'query shape', 'filter', 'count'])"
      ]
     },
     "execution_count": 55,
     "metadata": {},
     "output_type": "execute_result"
    }
   ],
   "source": [
    "nsai.predict('data/test/images/1.jpg', 'How many objects of the same shape as the gray object are there?')"
   ]
  },
  {
   "cell_type": "code",
   "execution_count": 59,
   "metadata": {},
   "outputs": [
    {
     "data": {
      "application/vnd.jupyter.widget-view+json": {
       "model_id": "bb996bb627b64c19ad9ffc9f3d89981f",
       "version_major": 2,
       "version_minor": 0
      },
      "text/plain": [
       "HBox(children=(FloatProgress(value=0.0, max=200.0), HTML(value='')))"
      ]
     },
     "metadata": {},
     "output_type": "display_data"
    },
    {
     "name": "stdout",
     "output_type": "stream",
     "text": [
      "\n"
     ]
    },
    {
     "data": {
      "text/plain": [
       "99.0"
      ]
     },
     "execution_count": 59,
     "metadata": {},
     "output_type": "execute_result"
    }
   ],
   "source": [
    "# Evaluate on the test and get the accuracy\n",
    "nsai.evaluate('data/test/test_q2p.csv', 'data/test/images/', debug=False)"
   ]
  },
  {
   "cell_type": "markdown",
   "metadata": {},
   "source": [
    "---\n",
    "#### Debugging"
   ]
  },
  {
   "cell_type": "code",
   "execution_count": 60,
   "metadata": {},
   "outputs": [
    {
     "data": {
      "text/plain": [
       "<matplotlib.image.AxesImage at 0x190a4962148>"
      ]
     },
     "execution_count": 60,
     "metadata": {},
     "output_type": "execute_result"
    },
    {
     "data": {
      "image/png": "[encoded data removed]",
      "text/plain": [
       "<Figure size 432x288 with 1 Axes>"
      ]
     },
     "metadata": {
      "needs_background": "light"
     },
     "output_type": "display_data"
    }
   ],
   "source": [
    "img2 = cv2.imread('data/train/images/2.jpg')\n",
    "imshow(cv2.cvtColor(img2, cv2.COLOR_BGR2RGB))"
   ]
  },
  {
   "cell_type": "code",
   "execution_count": 61,
   "metadata": {},
   "outputs": [
    {
     "data": {
      "text/html": [
       "<div>\n",
       "<style scoped>\n",
       "    .dataframe tbody tr th:only-of-type {\n",
       "        vertical-align: middle;\n",
       "    }\n",
       "\n",
       "    .dataframe tbody tr th {\n",
       "        vertical-align: top;\n",
       "    }\n",
       "\n",
       "    .dataframe thead th {\n",
       "        text-align: right;\n",
       "    }\n",
       "</style>\n",
       "<table border=\"1\" class=\"dataframe\">\n",
       "  <thead>\n",
       "    <tr style=\"text-align: right;\">\n",
       "      <th></th>\n",
       "      <th>shape</th>\n",
       "      <th>color</th>\n",
       "      <th>position</th>\n",
       "    </tr>\n",
       "  </thead>\n",
       "  <tbody>\n",
       "    <tr>\n",
       "      <th>0</th>\n",
       "      <td>rectangle</td>\n",
       "      <td>orange</td>\n",
       "      <td>(155, 172)</td>\n",
       "    </tr>\n",
       "    <tr>\n",
       "      <th>1</th>\n",
       "      <td>rectangle</td>\n",
       "      <td>red</td>\n",
       "      <td>(31, 108)</td>\n",
       "    </tr>\n",
       "    <tr>\n",
       "      <th>2</th>\n",
       "      <td>circle</td>\n",
       "      <td>gray</td>\n",
       "      <td>(31, 32)</td>\n",
       "    </tr>\n",
       "    <tr>\n",
       "      <th>3</th>\n",
       "      <td>circle</td>\n",
       "      <td>green</td>\n",
       "      <td>(91, 164)</td>\n",
       "    </tr>\n",
       "    <tr>\n",
       "      <th>4</th>\n",
       "      <td>circle</td>\n",
       "      <td>blue</td>\n",
       "      <td>(167, 108)</td>\n",
       "    </tr>\n",
       "    <tr>\n",
       "      <th>5</th>\n",
       "      <td>circle</td>\n",
       "      <td>yellow</td>\n",
       "      <td>(131, 84)</td>\n",
       "    </tr>\n",
       "  </tbody>\n",
       "</table>\n",
       "</div>"
      ],
      "text/plain": [
       "       shape   color    position\n",
       "0  rectangle  orange  (155, 172)\n",
       "1  rectangle     red   (31, 108)\n",
       "2     circle    gray    (31, 32)\n",
       "3     circle   green   (91, 164)\n",
       "4     circle    blue  (167, 108)\n",
       "5     circle  yellow   (131, 84)"
      ]
     },
     "execution_count": 61,
     "metadata": {},
     "output_type": "execute_result"
    }
   ],
   "source": [
    "nsai.executor.scene = nsai.perceiver.scene_repr(img2)\n",
    "nsai.executor.scene"
   ]
  },
  {
   "cell_type": "code",
   "execution_count": 78,
   "metadata": {},
   "outputs": [],
   "source": [
    "# program = nsai.sem_parser.predict('How many objects of the same shape as the red object are there? ')\n",
    "# program"
   ]
  },
  {
   "cell_type": "code",
   "execution_count": 80,
   "metadata": {},
   "outputs": [],
   "source": [
    "# nsai.executor.count(nsai.executor.filter_(nsai.executor.query(nsai.executor.filter_('red'), 'shape')))"
   ]
  },
  {
   "cell_type": "code",
   "execution_count": null,
   "metadata": {},
   "outputs": [],
   "source": []
  }
 ],
 "metadata": {
  "kernelspec": {
   "display_name": "Python [conda env:neuro-symbolic] *",
   "language": "python",
   "name": "conda-env-neuro-symbolic-py"
  },
  "language_info": {
   "codemirror_mode": {
    "name": "ipython",
    "version": 3
   },
   "file_extension": ".py",
   "mimetype": "text/x-python",
   "name": "python",
   "nbconvert_exporter": "python",
   "pygments_lexer": "ipython3",
   "version": "3.7.10"
  }
 },
 "nbformat": 4,
 "nbformat_minor": 4
}
